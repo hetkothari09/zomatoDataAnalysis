{
 "cells": [
  {
   "cell_type": "markdown",
   "id": "33d11b30-a0d6-4b44-a4e2-f14294fa9d9f",
   "metadata": {},
   "source": [
    "Zomato Analysis Project"
   ]
  },
  {
   "cell_type": "code",
   "execution_count": 1,
   "id": "e6fc19da-72d0-434a-8d1e-34f82d64963c",
   "metadata": {},
   "outputs": [
    {
     "name": "stdout",
     "output_type": "stream",
     "text": [
      "pip 23.0.1 from C:\\Users\\hetnk\\.virtualenvs\\ipd_Project\\zomatoAnalysis\\Lib\\site-packages\\pip (python 3.12)\n",
      "\n"
     ]
    }
   ],
   "source": [
    "!pip --version"
   ]
  },
  {
   "cell_type": "code",
   "execution_count": null,
   "id": "c0ee6846-9450-4234-b8f0-155376826087",
   "metadata": {},
   "outputs": [],
   "source": []
  }
 ],
 "metadata": {
  "kernelspec": {
   "display_name": "Python 3 (ipykernel)",
   "language": "python",
   "name": "python3"
  },
  "language_info": {
   "codemirror_mode": {
    "name": "ipython",
    "version": 3
   },
   "file_extension": ".py",
   "mimetype": "text/x-python",
   "name": "python",
   "nbconvert_exporter": "python",
   "pygments_lexer": "ipython3",
   "version": "3.12.6"
  }
 },
 "nbformat": 4,
 "nbformat_minor": 5
}
